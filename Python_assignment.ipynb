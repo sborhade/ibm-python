{
    "cells": [
        {
            "metadata": {},
            "cell_type": "code",
            "source": "import urllib.request\nlink = \"http://api.worldbank.org/v2/en/indicator/NY.GDP.MKTP.CD?downloadformat=csv\"\nurllib.request.urlretrieve(link, \"GDP.zip\")\nimport zipfile\n\nimport pandas as pd\nimport zipfile\n\nzf = zipfile.ZipFile('GDP.zip') \nzipfile.ZipFile.namelist(zf)[1]\ngdp_dataframe = pd.read_csv(zipfile.ZipFile.namelist(zf)[1],skiprows=4)    \ngdp_dataframe.head()\n",
            "execution_count": 10,
            "outputs": [
                {
                    "output_type": "execute_result",
                    "execution_count": 10,
                    "data": {
                        "text/plain": "  Country Name Country Code     Indicator Name  Indicator Code          1960  \\\n0        Aruba          ABW  GDP (current US$)  NY.GDP.MKTP.CD           NaN   \n1  Afghanistan          AFG  GDP (current US$)  NY.GDP.MKTP.CD  5.377778e+08   \n2       Angola          AGO  GDP (current US$)  NY.GDP.MKTP.CD           NaN   \n3      Albania          ALB  GDP (current US$)  NY.GDP.MKTP.CD           NaN   \n4      Andorra          AND  GDP (current US$)  NY.GDP.MKTP.CD           NaN   \n\n           1961          1962          1963          1964          1965  ...  \\\n0           NaN           NaN           NaN           NaN           NaN  ...   \n1  5.488889e+08  5.466667e+08  7.511112e+08  8.000000e+08  1.006667e+09  ...   \n2           NaN           NaN           NaN           NaN           NaN  ...   \n3           NaN           NaN           NaN           NaN           NaN  ...   \n4           NaN           NaN           NaN           NaN           NaN  ...   \n\n           2011          2012          2013          2014          2015  \\\n0  2.549721e+09  2.534637e+09  2.581564e+09  2.649721e+09  2.691620e+09   \n1  1.780428e+10  2.000162e+10  2.056105e+10  2.048487e+10  1.990711e+10   \n2  1.117897e+11  1.280529e+11  1.367099e+11  1.457122e+11  1.161936e+11   \n3  1.289087e+10  1.231978e+10  1.277628e+10  1.322824e+10  1.138693e+10   \n4  3.442063e+09  3.164615e+09  3.281585e+09  3.350736e+09  2.811489e+09   \n\n           2016          2017          2018  2019  Unnamed: 64  \n0  2.646927e+09  2.700559e+09           NaN   NaN          NaN  \n1  1.936264e+10  2.019176e+10  1.936297e+10   NaN          NaN  \n2  1.011239e+11  1.221238e+11  1.057510e+11   NaN          NaN  \n3  1.186135e+10  1.302506e+10  1.510250e+10   NaN          NaN  \n4  2.877312e+09  3.013387e+09  3.236544e+09   NaN          NaN  \n\n[5 rows x 65 columns]",
                        "text/html": "<div>\n<style scoped>\n    .dataframe tbody tr th:only-of-type {\n        vertical-align: middle;\n    }\n\n    .dataframe tbody tr th {\n        vertical-align: top;\n    }\n\n    .dataframe thead th {\n        text-align: right;\n    }\n</style>\n<table border=\"1\" class=\"dataframe\">\n  <thead>\n    <tr style=\"text-align: right;\">\n      <th></th>\n      <th>Country Name</th>\n      <th>Country Code</th>\n      <th>Indicator Name</th>\n      <th>Indicator Code</th>\n      <th>1960</th>\n      <th>1961</th>\n      <th>1962</th>\n      <th>1963</th>\n      <th>1964</th>\n      <th>1965</th>\n      <th>...</th>\n      <th>2011</th>\n      <th>2012</th>\n      <th>2013</th>\n      <th>2014</th>\n      <th>2015</th>\n      <th>2016</th>\n      <th>2017</th>\n      <th>2018</th>\n      <th>2019</th>\n      <th>Unnamed: 64</th>\n    </tr>\n  </thead>\n  <tbody>\n    <tr>\n      <th>0</th>\n      <td>Aruba</td>\n      <td>ABW</td>\n      <td>GDP (current US$)</td>\n      <td>NY.GDP.MKTP.CD</td>\n      <td>NaN</td>\n      <td>NaN</td>\n      <td>NaN</td>\n      <td>NaN</td>\n      <td>NaN</td>\n      <td>NaN</td>\n      <td>...</td>\n      <td>2.549721e+09</td>\n      <td>2.534637e+09</td>\n      <td>2.581564e+09</td>\n      <td>2.649721e+09</td>\n      <td>2.691620e+09</td>\n      <td>2.646927e+09</td>\n      <td>2.700559e+09</td>\n      <td>NaN</td>\n      <td>NaN</td>\n      <td>NaN</td>\n    </tr>\n    <tr>\n      <th>1</th>\n      <td>Afghanistan</td>\n      <td>AFG</td>\n      <td>GDP (current US$)</td>\n      <td>NY.GDP.MKTP.CD</td>\n      <td>5.377778e+08</td>\n      <td>5.488889e+08</td>\n      <td>5.466667e+08</td>\n      <td>7.511112e+08</td>\n      <td>8.000000e+08</td>\n      <td>1.006667e+09</td>\n      <td>...</td>\n      <td>1.780428e+10</td>\n      <td>2.000162e+10</td>\n      <td>2.056105e+10</td>\n      <td>2.048487e+10</td>\n      <td>1.990711e+10</td>\n      <td>1.936264e+10</td>\n      <td>2.019176e+10</td>\n      <td>1.936297e+10</td>\n      <td>NaN</td>\n      <td>NaN</td>\n    </tr>\n    <tr>\n      <th>2</th>\n      <td>Angola</td>\n      <td>AGO</td>\n      <td>GDP (current US$)</td>\n      <td>NY.GDP.MKTP.CD</td>\n      <td>NaN</td>\n      <td>NaN</td>\n      <td>NaN</td>\n      <td>NaN</td>\n      <td>NaN</td>\n      <td>NaN</td>\n      <td>...</td>\n      <td>1.117897e+11</td>\n      <td>1.280529e+11</td>\n      <td>1.367099e+11</td>\n      <td>1.457122e+11</td>\n      <td>1.161936e+11</td>\n      <td>1.011239e+11</td>\n      <td>1.221238e+11</td>\n      <td>1.057510e+11</td>\n      <td>NaN</td>\n      <td>NaN</td>\n    </tr>\n    <tr>\n      <th>3</th>\n      <td>Albania</td>\n      <td>ALB</td>\n      <td>GDP (current US$)</td>\n      <td>NY.GDP.MKTP.CD</td>\n      <td>NaN</td>\n      <td>NaN</td>\n      <td>NaN</td>\n      <td>NaN</td>\n      <td>NaN</td>\n      <td>NaN</td>\n      <td>...</td>\n      <td>1.289087e+10</td>\n      <td>1.231978e+10</td>\n      <td>1.277628e+10</td>\n      <td>1.322824e+10</td>\n      <td>1.138693e+10</td>\n      <td>1.186135e+10</td>\n      <td>1.302506e+10</td>\n      <td>1.510250e+10</td>\n      <td>NaN</td>\n      <td>NaN</td>\n    </tr>\n    <tr>\n      <th>4</th>\n      <td>Andorra</td>\n      <td>AND</td>\n      <td>GDP (current US$)</td>\n      <td>NY.GDP.MKTP.CD</td>\n      <td>NaN</td>\n      <td>NaN</td>\n      <td>NaN</td>\n      <td>NaN</td>\n      <td>NaN</td>\n      <td>NaN</td>\n      <td>...</td>\n      <td>3.442063e+09</td>\n      <td>3.164615e+09</td>\n      <td>3.281585e+09</td>\n      <td>3.350736e+09</td>\n      <td>2.811489e+09</td>\n      <td>2.877312e+09</td>\n      <td>3.013387e+09</td>\n      <td>3.236544e+09</td>\n      <td>NaN</td>\n      <td>NaN</td>\n    </tr>\n  </tbody>\n</table>\n<p>5 rows \u00d7 65 columns</p>\n</div>"
                    },
                    "metadata": {}
                }
            ]
        },
        {
            "metadata": {},
            "cell_type": "code",
            "source": "import urllib.request\nlink = \"http://api.worldbank.org/v2/en/indicator/SL.UEM.TOTL.ZS?downloadformat=csv\"\nurllib.request.urlretrieve(link, \"Unemployment.zip\")\nimport zipfile\n\nimport pandas as pd\nimport zipfile\nzf = zipfile.ZipFile('Unemployment.zip') \nzf.extractall()\nzipfile.ZipFile.namelist(zf)[1]\nUnemployment = pd.read_csv(zipfile.ZipFile.namelist(zf)[1],skiprows=4)    \nUnemployment.head()\n",
            "execution_count": 27,
            "outputs": [
                {
                    "output_type": "execute_result",
                    "execution_count": 27,
                    "data": {
                        "text/plain": "  Country Name Country Code  \\\n0        Aruba          ABW   \n1  Afghanistan          AFG   \n2       Angola          AGO   \n3      Albania          ALB   \n4      Andorra          AND   \n\n                                      Indicator Name  Indicator Code  1960  \\\n0  Unemployment, total (% of total labor force) (...  SL.UEM.TOTL.ZS   NaN   \n1  Unemployment, total (% of total labor force) (...  SL.UEM.TOTL.ZS   NaN   \n2  Unemployment, total (% of total labor force) (...  SL.UEM.TOTL.ZS   NaN   \n3  Unemployment, total (% of total labor force) (...  SL.UEM.TOTL.ZS   NaN   \n4  Unemployment, total (% of total labor force) (...  SL.UEM.TOTL.ZS   NaN   \n\n   1961  1962  1963  1964  1965  ...    2011    2012    2013    2014    2015  \\\n0   NaN   NaN   NaN   NaN   NaN  ...     NaN     NaN     NaN     NaN     NaN   \n1   NaN   NaN   NaN   NaN   NaN  ...  11.488  11.508  11.534  11.448  11.387   \n2   NaN   NaN   NaN   NaN   NaN  ...   7.362   7.379   7.400   7.331   7.282   \n3   NaN   NaN   NaN   NaN   NaN  ...  13.481  13.376  15.866  17.490  17.080   \n4   NaN   NaN   NaN   NaN   NaN  ...     NaN     NaN     NaN     NaN     NaN   \n\n     2016    2017    2018    2019  Unnamed: 64  \n0     NaN     NaN     NaN     NaN          NaN  \n1  11.313  11.184  11.057  11.118          NaN  \n2   7.223   7.119   7.019   6.886          NaN  \n3  15.220  13.750  12.340  12.331          NaN  \n4     NaN     NaN     NaN     NaN          NaN  \n\n[5 rows x 65 columns]",
                        "text/html": "<div>\n<style scoped>\n    .dataframe tbody tr th:only-of-type {\n        vertical-align: middle;\n    }\n\n    .dataframe tbody tr th {\n        vertical-align: top;\n    }\n\n    .dataframe thead th {\n        text-align: right;\n    }\n</style>\n<table border=\"1\" class=\"dataframe\">\n  <thead>\n    <tr style=\"text-align: right;\">\n      <th></th>\n      <th>Country Name</th>\n      <th>Country Code</th>\n      <th>Indicator Name</th>\n      <th>Indicator Code</th>\n      <th>1960</th>\n      <th>1961</th>\n      <th>1962</th>\n      <th>1963</th>\n      <th>1964</th>\n      <th>1965</th>\n      <th>...</th>\n      <th>2011</th>\n      <th>2012</th>\n      <th>2013</th>\n      <th>2014</th>\n      <th>2015</th>\n      <th>2016</th>\n      <th>2017</th>\n      <th>2018</th>\n      <th>2019</th>\n      <th>Unnamed: 64</th>\n    </tr>\n  </thead>\n  <tbody>\n    <tr>\n      <th>0</th>\n      <td>Aruba</td>\n      <td>ABW</td>\n      <td>Unemployment, total (% of total labor force) (...</td>\n      <td>SL.UEM.TOTL.ZS</td>\n      <td>NaN</td>\n      <td>NaN</td>\n      <td>NaN</td>\n      <td>NaN</td>\n      <td>NaN</td>\n      <td>NaN</td>\n      <td>...</td>\n      <td>NaN</td>\n      <td>NaN</td>\n      <td>NaN</td>\n      <td>NaN</td>\n      <td>NaN</td>\n      <td>NaN</td>\n      <td>NaN</td>\n      <td>NaN</td>\n      <td>NaN</td>\n      <td>NaN</td>\n    </tr>\n    <tr>\n      <th>1</th>\n      <td>Afghanistan</td>\n      <td>AFG</td>\n      <td>Unemployment, total (% of total labor force) (...</td>\n      <td>SL.UEM.TOTL.ZS</td>\n      <td>NaN</td>\n      <td>NaN</td>\n      <td>NaN</td>\n      <td>NaN</td>\n      <td>NaN</td>\n      <td>NaN</td>\n      <td>...</td>\n      <td>11.488</td>\n      <td>11.508</td>\n      <td>11.534</td>\n      <td>11.448</td>\n      <td>11.387</td>\n      <td>11.313</td>\n      <td>11.184</td>\n      <td>11.057</td>\n      <td>11.118</td>\n      <td>NaN</td>\n    </tr>\n    <tr>\n      <th>2</th>\n      <td>Angola</td>\n      <td>AGO</td>\n      <td>Unemployment, total (% of total labor force) (...</td>\n      <td>SL.UEM.TOTL.ZS</td>\n      <td>NaN</td>\n      <td>NaN</td>\n      <td>NaN</td>\n      <td>NaN</td>\n      <td>NaN</td>\n      <td>NaN</td>\n      <td>...</td>\n      <td>7.362</td>\n      <td>7.379</td>\n      <td>7.400</td>\n      <td>7.331</td>\n      <td>7.282</td>\n      <td>7.223</td>\n      <td>7.119</td>\n      <td>7.019</td>\n      <td>6.886</td>\n      <td>NaN</td>\n    </tr>\n    <tr>\n      <th>3</th>\n      <td>Albania</td>\n      <td>ALB</td>\n      <td>Unemployment, total (% of total labor force) (...</td>\n      <td>SL.UEM.TOTL.ZS</td>\n      <td>NaN</td>\n      <td>NaN</td>\n      <td>NaN</td>\n      <td>NaN</td>\n      <td>NaN</td>\n      <td>NaN</td>\n      <td>...</td>\n      <td>13.481</td>\n      <td>13.376</td>\n      <td>15.866</td>\n      <td>17.490</td>\n      <td>17.080</td>\n      <td>15.220</td>\n      <td>13.750</td>\n      <td>12.340</td>\n      <td>12.331</td>\n      <td>NaN</td>\n    </tr>\n    <tr>\n      <th>4</th>\n      <td>Andorra</td>\n      <td>AND</td>\n      <td>Unemployment, total (% of total labor force) (...</td>\n      <td>SL.UEM.TOTL.ZS</td>\n      <td>NaN</td>\n      <td>NaN</td>\n      <td>NaN</td>\n      <td>NaN</td>\n      <td>NaN</td>\n      <td>NaN</td>\n      <td>...</td>\n      <td>NaN</td>\n      <td>NaN</td>\n      <td>NaN</td>\n      <td>NaN</td>\n      <td>NaN</td>\n      <td>NaN</td>\n      <td>NaN</td>\n      <td>NaN</td>\n      <td>NaN</td>\n      <td>NaN</td>\n    </tr>\n  </tbody>\n</table>\n<p>5 rows \u00d7 65 columns</p>\n</div>"
                    },
                    "metadata": {}
                }
            ]
        },
        {
            "metadata": {},
            "cell_type": "code",
            "source": "import urllib.request\nlink = \"http://api.worldbank.org/v2/en/indicator/SL.UEM.TOTL.ZS?downloadformat=csv\"\nurllib.request.urlretrieve(link, \"Unemployment.zip\")\nimport zipfile\n\nimport pandas as pd\nimport zipfile\nzf = zipfile.ZipFile('Unemployment.zip') \nzf.extractall()\nzipfile.ZipFile.namelist(zf)[1]\nUnemployment = pd.read_csv(zipfile.ZipFile.namelist(zf)[1],skiprows=4)    \nUnemployment=Unemployment[['Country Name','Country Code','Indicator Name','2019']]\nUnemployment[Unemployment['2019']>8.5].head()\n",
            "execution_count": 50,
            "outputs": [
                {
                    "output_type": "execute_result",
                    "execution_count": 50,
                    "data": {
                        "text/plain": "  Country Name Country Code  \\\n1  Afghanistan          AFG   \n3      Albania          ALB   \n5   Arab World          ARB   \n7    Argentina          ARG   \n8      Armenia          ARM   \n\n                                      Indicator Name       2019  \n1  Unemployment, total (% of total labor force) (...  11.118000  \n3  Unemployment, total (% of total labor force) (...  12.331000  \n5  Unemployment, total (% of total labor force) (...  10.337095  \n7  Unemployment, total (% of total labor force) (...   9.789000  \n8  Unemployment, total (% of total labor force) (...  16.990000  ",
                        "text/html": "<div>\n<style scoped>\n    .dataframe tbody tr th:only-of-type {\n        vertical-align: middle;\n    }\n\n    .dataframe tbody tr th {\n        vertical-align: top;\n    }\n\n    .dataframe thead th {\n        text-align: right;\n    }\n</style>\n<table border=\"1\" class=\"dataframe\">\n  <thead>\n    <tr style=\"text-align: right;\">\n      <th></th>\n      <th>Country Name</th>\n      <th>Country Code</th>\n      <th>Indicator Name</th>\n      <th>2019</th>\n    </tr>\n  </thead>\n  <tbody>\n    <tr>\n      <th>1</th>\n      <td>Afghanistan</td>\n      <td>AFG</td>\n      <td>Unemployment, total (% of total labor force) (...</td>\n      <td>11.118000</td>\n    </tr>\n    <tr>\n      <th>3</th>\n      <td>Albania</td>\n      <td>ALB</td>\n      <td>Unemployment, total (% of total labor force) (...</td>\n      <td>12.331000</td>\n    </tr>\n    <tr>\n      <th>5</th>\n      <td>Arab World</td>\n      <td>ARB</td>\n      <td>Unemployment, total (% of total labor force) (...</td>\n      <td>10.337095</td>\n    </tr>\n    <tr>\n      <th>7</th>\n      <td>Argentina</td>\n      <td>ARG</td>\n      <td>Unemployment, total (% of total labor force) (...</td>\n      <td>9.789000</td>\n    </tr>\n    <tr>\n      <th>8</th>\n      <td>Armenia</td>\n      <td>ARM</td>\n      <td>Unemployment, total (% of total labor force) (...</td>\n      <td>16.990000</td>\n    </tr>\n  </tbody>\n</table>\n</div>"
                    },
                    "metadata": {}
                }
            ]
        },
        {
            "metadata": {},
            "cell_type": "code",
            "source": "import plotly.graph_objs as go",
            "execution_count": 114,
            "outputs": []
        },
        {
            "metadata": {},
            "cell_type": "code",
            "source": "def make_dashboard(): \n    import plotly\n    from plotly import version\n    from plotly.offline import download_plotlyjs, init_notebook_mode, plot, iplot\n    init_notebook_mode(connected=True)\n    import plotly.express as px\n    import pandas as pd\n    import plotly.graph_objects as go\n    from plotly.subplots import make_subplots\n\n    Unemployment = pd.read_csv('API_SL.UEM.TOTL.ZS_DS2_en_csv_v2_1120897.csv',skiprows=4)    \n    Unemployment=Unemployment[['Country Name','Country Code','Indicator Name','2019','2018']]\n    Unemployment[Unemployment['2019']>8.5].head()\n\n    df=Unemployment.head(9)\n\n    fig = make_subplots(\n        rows=2, cols=2,\n        specs=[[{\"type\": \"xy\"}, {\"type\": \"bar\"}],\n               [{\"type\": \"pie\"}, {\"type\": \"funnel\"}]],\n     subplot_titles=(\"Country-wise graph of 2019 Unemployment\", \"Country-wise Scattered 2019 Unemployment\", \"Country-wise 2019 Unemployment\",\n                     \"Country-wise Funnel view of 2019 unemployment\")\n    )\n    fig.add_trace(go.Bar(x=df['Country Name'], y=df['2019']),row=1, col=1)\n\n    trace1 = go.Scatter(x = df['Country Name'], y=df['2019'], mode = \"lines\",name = 'Value', line = dict(shape = \"spline\"))\n    fig.add_trace(trace1,row=1, col=2)\n\n    trace2 = go.Pie(labels = df['Country Name'], values = df['2019'])\n    fig.add_trace(trace2,row=2, col=1)\n\n    funn = go.Funnel(\n        y = df['Country Name'],\n        x = df['2019'])\n\n    fig.add_trace(funn,row=2, col=2)\n    fig.show()\n",
            "execution_count": 96,
            "outputs": []
        },
        {
            "metadata": {},
            "cell_type": "code",
            "source": "make_dashboard()",
            "execution_count": 97,
            "outputs": [
                {
                    "output_type": "display_data",
                    "data": {
                        "text/html": "        <script type=\"text/javascript\">\n        window.PlotlyConfig = {MathJaxConfig: 'local'};\n        if (window.MathJax) {MathJax.Hub.Config({SVG: {font: \"STIX-Web\"}});}\n        if (typeof require !== 'undefined') {\n        require.undef(\"plotly\");\n        requirejs.config({\n            paths: {\n                'plotly': ['https://cdn.plot.ly/plotly-latest.min']\n            }\n        });\n        require(['plotly'], function(Plotly) {\n            window._Plotly = Plotly;\n        });\n        }\n        </script>\n        "
                    },
                    "metadata": {}
                },
                {
                    "output_type": "display_data",
                    "data": {
                        "application/vnd.plotly.v1+json": {
                            "config": {
                                "plotlyServerURL": "https://plot.ly"
                            },
                            "data": [
                                {
                                    "type": "bar",
                                    "x": [
                                        "Aruba",
                                        "Afghanistan",
                                        "Angola",
                                        "Albania",
                                        "Andorra",
                                        "Arab World",
                                        "United Arab Emirates",
                                        "Argentina",
                                        "Armenia"
                                    ],
                                    "xaxis": "x",
                                    "y": [
                                        null,
                                        11.1180000305176,
                                        6.8860001564025906,
                                        12.331000328064,
                                        null,
                                        10.337095420317699,
                                        2.34800004959106,
                                        9.788999557495119,
                                        16.9899997711182
                                    ],
                                    "yaxis": "y"
                                },
                                {
                                    "line": {
                                        "shape": "spline"
                                    },
                                    "mode": "lines",
                                    "name": "Value",
                                    "type": "scatter",
                                    "x": [
                                        "Aruba",
                                        "Afghanistan",
                                        "Angola",
                                        "Albania",
                                        "Andorra",
                                        "Arab World",
                                        "United Arab Emirates",
                                        "Argentina",
                                        "Armenia"
                                    ],
                                    "xaxis": "x2",
                                    "y": [
                                        null,
                                        11.1180000305176,
                                        6.8860001564025906,
                                        12.331000328064,
                                        null,
                                        10.337095420317699,
                                        2.34800004959106,
                                        9.788999557495119,
                                        16.9899997711182
                                    ],
                                    "yaxis": "y2"
                                },
                                {
                                    "domain": {
                                        "x": [
                                            0,
                                            0.45
                                        ],
                                        "y": [
                                            0,
                                            0.375
                                        ]
                                    },
                                    "labels": [
                                        "Aruba",
                                        "Afghanistan",
                                        "Angola",
                                        "Albania",
                                        "Andorra",
                                        "Arab World",
                                        "United Arab Emirates",
                                        "Argentina",
                                        "Armenia"
                                    ],
                                    "type": "pie",
                                    "values": [
                                        null,
                                        11.1180000305176,
                                        6.8860001564025906,
                                        12.331000328064,
                                        null,
                                        10.337095420317699,
                                        2.34800004959106,
                                        9.788999557495119,
                                        16.9899997711182
                                    ]
                                },
                                {
                                    "type": "funnel",
                                    "x": [
                                        null,
                                        11.1180000305176,
                                        6.8860001564025906,
                                        12.331000328064,
                                        null,
                                        10.337095420317699,
                                        2.34800004959106,
                                        9.788999557495119,
                                        16.9899997711182
                                    ],
                                    "xaxis": "x3",
                                    "y": [
                                        "Aruba",
                                        "Afghanistan",
                                        "Angola",
                                        "Albania",
                                        "Andorra",
                                        "Arab World",
                                        "United Arab Emirates",
                                        "Argentina",
                                        "Armenia"
                                    ],
                                    "yaxis": "y3"
                                }
                            ],
                            "layout": {
                                "annotations": [
                                    {
                                        "font": {
                                            "size": 16
                                        },
                                        "showarrow": false,
                                        "text": "Country-wise graph of 2019 Unemployment",
                                        "x": 0.225,
                                        "xanchor": "center",
                                        "xref": "paper",
                                        "y": 1,
                                        "yanchor": "bottom",
                                        "yref": "paper"
                                    },
                                    {
                                        "font": {
                                            "size": 16
                                        },
                                        "showarrow": false,
                                        "text": "Country-wise Scattered 2019 Unemployment",
                                        "x": 0.775,
                                        "xanchor": "center",
                                        "xref": "paper",
                                        "y": 1,
                                        "yanchor": "bottom",
                                        "yref": "paper"
                                    },
                                    {
                                        "font": {
                                            "size": 16
                                        },
                                        "showarrow": false,
                                        "text": "Country-wise 2019 Unemployment",
                                        "x": 0.225,
                                        "xanchor": "center",
                                        "xref": "paper",
                                        "y": 0.375,
                                        "yanchor": "bottom",
                                        "yref": "paper"
                                    },
                                    {
                                        "font": {
                                            "size": 16
                                        },
                                        "showarrow": false,
                                        "text": "Country-wise Funnel view of 2019 unemployment",
                                        "x": 0.775,
                                        "xanchor": "center",
                                        "xref": "paper",
                                        "y": 0.375,
                                        "yanchor": "bottom",
                                        "yref": "paper"
                                    }
                                ],
                                "template": {
                                    "data": {
                                        "bar": [
                                            {
                                                "error_x": {
                                                    "color": "#2a3f5f"
                                                },
                                                "error_y": {
                                                    "color": "#2a3f5f"
                                                },
                                                "marker": {
                                                    "line": {
                                                        "color": "#E5ECF6",
                                                        "width": 0.5
                                                    }
                                                },
                                                "type": "bar"
                                            }
                                        ],
                                        "barpolar": [
                                            {
                                                "marker": {
                                                    "line": {
                                                        "color": "#E5ECF6",
                                                        "width": 0.5
                                                    }
                                                },
                                                "type": "barpolar"
                                            }
                                        ],
                                        "carpet": [
                                            {
                                                "aaxis": {
                                                    "endlinecolor": "#2a3f5f",
                                                    "gridcolor": "white",
                                                    "linecolor": "white",
                                                    "minorgridcolor": "white",
                                                    "startlinecolor": "#2a3f5f"
                                                },
                                                "baxis": {
                                                    "endlinecolor": "#2a3f5f",
                                                    "gridcolor": "white",
                                                    "linecolor": "white",
                                                    "minorgridcolor": "white",
                                                    "startlinecolor": "#2a3f5f"
                                                },
                                                "type": "carpet"
                                            }
                                        ],
                                        "choropleth": [
                                            {
                                                "colorbar": {
                                                    "outlinewidth": 0,
                                                    "ticks": ""
                                                },
                                                "type": "choropleth"
                                            }
                                        ],
                                        "contour": [
                                            {
                                                "colorbar": {
                                                    "outlinewidth": 0,
                                                    "ticks": ""
                                                },
                                                "colorscale": [
                                                    [
                                                        0,
                                                        "#0d0887"
                                                    ],
                                                    [
                                                        0.1111111111111111,
                                                        "#46039f"
                                                    ],
                                                    [
                                                        0.2222222222222222,
                                                        "#7201a8"
                                                    ],
                                                    [
                                                        0.3333333333333333,
                                                        "#9c179e"
                                                    ],
                                                    [
                                                        0.4444444444444444,
                                                        "#bd3786"
                                                    ],
                                                    [
                                                        0.5555555555555556,
                                                        "#d8576b"
                                                    ],
                                                    [
                                                        0.6666666666666666,
                                                        "#ed7953"
                                                    ],
                                                    [
                                                        0.7777777777777778,
                                                        "#fb9f3a"
                                                    ],
                                                    [
                                                        0.8888888888888888,
                                                        "#fdca26"
                                                    ],
                                                    [
                                                        1,
                                                        "#f0f921"
                                                    ]
                                                ],
                                                "type": "contour"
                                            }
                                        ],
                                        "contourcarpet": [
                                            {
                                                "colorbar": {
                                                    "outlinewidth": 0,
                                                    "ticks": ""
                                                },
                                                "type": "contourcarpet"
                                            }
                                        ],
                                        "heatmap": [
                                            {
                                                "colorbar": {
                                                    "outlinewidth": 0,
                                                    "ticks": ""
                                                },
                                                "colorscale": [
                                                    [
                                                        0,
                                                        "#0d0887"
                                                    ],
                                                    [
                                                        0.1111111111111111,
                                                        "#46039f"
                                                    ],
                                                    [
                                                        0.2222222222222222,
                                                        "#7201a8"
                                                    ],
                                                    [
                                                        0.3333333333333333,
                                                        "#9c179e"
                                                    ],
                                                    [
                                                        0.4444444444444444,
                                                        "#bd3786"
                                                    ],
                                                    [
                                                        0.5555555555555556,
                                                        "#d8576b"
                                                    ],
                                                    [
                                                        0.6666666666666666,
                                                        "#ed7953"
                                                    ],
                                                    [
                                                        0.7777777777777778,
                                                        "#fb9f3a"
                                                    ],
                                                    [
                                                        0.8888888888888888,
                                                        "#fdca26"
                                                    ],
                                                    [
                                                        1,
                                                        "#f0f921"
                                                    ]
                                                ],
                                                "type": "heatmap"
                                            }
                                        ],
                                        "heatmapgl": [
                                            {
                                                "colorbar": {
                                                    "outlinewidth": 0,
                                                    "ticks": ""
                                                },
                                                "colorscale": [
                                                    [
                                                        0,
                                                        "#0d0887"
                                                    ],
                                                    [
                                                        0.1111111111111111,
                                                        "#46039f"
                                                    ],
                                                    [
                                                        0.2222222222222222,
                                                        "#7201a8"
                                                    ],
                                                    [
                                                        0.3333333333333333,
                                                        "#9c179e"
                                                    ],
                                                    [
                                                        0.4444444444444444,
                                                        "#bd3786"
                                                    ],
                                                    [
                                                        0.5555555555555556,
                                                        "#d8576b"
                                                    ],
                                                    [
                                                        0.6666666666666666,
                                                        "#ed7953"
                                                    ],
                                                    [
                                                        0.7777777777777778,
                                                        "#fb9f3a"
                                                    ],
                                                    [
                                                        0.8888888888888888,
                                                        "#fdca26"
                                                    ],
                                                    [
                                                        1,
                                                        "#f0f921"
                                                    ]
                                                ],
                                                "type": "heatmapgl"
                                            }
                                        ],
                                        "histogram": [
                                            {
                                                "marker": {
                                                    "colorbar": {
                                                        "outlinewidth": 0,
                                                        "ticks": ""
                                                    }
                                                },
                                                "type": "histogram"
                                            }
                                        ],
                                        "histogram2d": [
                                            {
                                                "colorbar": {
                                                    "outlinewidth": 0,
                                                    "ticks": ""
                                                },
                                                "colorscale": [
                                                    [
                                                        0,
                                                        "#0d0887"
                                                    ],
                                                    [
                                                        0.1111111111111111,
                                                        "#46039f"
                                                    ],
                                                    [
                                                        0.2222222222222222,
                                                        "#7201a8"
                                                    ],
                                                    [
                                                        0.3333333333333333,
                                                        "#9c179e"
                                                    ],
                                                    [
                                                        0.4444444444444444,
                                                        "#bd3786"
                                                    ],
                                                    [
                                                        0.5555555555555556,
                                                        "#d8576b"
                                                    ],
                                                    [
                                                        0.6666666666666666,
                                                        "#ed7953"
                                                    ],
                                                    [
                                                        0.7777777777777778,
                                                        "#fb9f3a"
                                                    ],
                                                    [
                                                        0.8888888888888888,
                                                        "#fdca26"
                                                    ],
                                                    [
                                                        1,
                                                        "#f0f921"
                                                    ]
                                                ],
                                                "type": "histogram2d"
                                            }
                                        ],
                                        "histogram2dcontour": [
                                            {
                                                "colorbar": {
                                                    "outlinewidth": 0,
                                                    "ticks": ""
                                                },
                                                "colorscale": [
                                                    [
                                                        0,
                                                        "#0d0887"
                                                    ],
                                                    [
                                                        0.1111111111111111,
                                                        "#46039f"
                                                    ],
                                                    [
                                                        0.2222222222222222,
                                                        "#7201a8"
                                                    ],
                                                    [
                                                        0.3333333333333333,
                                                        "#9c179e"
                                                    ],
                                                    [
                                                        0.4444444444444444,
                                                        "#bd3786"
                                                    ],
                                                    [
                                                        0.5555555555555556,
                                                        "#d8576b"
                                                    ],
                                                    [
                                                        0.6666666666666666,
                                                        "#ed7953"
                                                    ],
                                                    [
                                                        0.7777777777777778,
                                                        "#fb9f3a"
                                                    ],
                                                    [
                                                        0.8888888888888888,
                                                        "#fdca26"
                                                    ],
                                                    [
                                                        1,
                                                        "#f0f921"
                                                    ]
                                                ],
                                                "type": "histogram2dcontour"
                                            }
                                        ],
                                        "mesh3d": [
                                            {
                                                "colorbar": {
                                                    "outlinewidth": 0,
                                                    "ticks": ""
                                                },
                                                "type": "mesh3d"
                                            }
                                        ],
                                        "parcoords": [
                                            {
                                                "line": {
                                                    "colorbar": {
                                                        "outlinewidth": 0,
                                                        "ticks": ""
                                                    }
                                                },
                                                "type": "parcoords"
                                            }
                                        ],
                                        "pie": [
                                            {
                                                "automargin": true,
                                                "type": "pie"
                                            }
                                        ],
                                        "scatter": [
                                            {
                                                "marker": {
                                                    "colorbar": {
                                                        "outlinewidth": 0,
                                                        "ticks": ""
                                                    }
                                                },
                                                "type": "scatter"
                                            }
                                        ],
                                        "scatter3d": [
                                            {
                                                "line": {
                                                    "colorbar": {
                                                        "outlinewidth": 0,
                                                        "ticks": ""
                                                    }
                                                },
                                                "marker": {
                                                    "colorbar": {
                                                        "outlinewidth": 0,
                                                        "ticks": ""
                                                    }
                                                },
                                                "type": "scatter3d"
                                            }
                                        ],
                                        "scattercarpet": [
                                            {
                                                "marker": {
                                                    "colorbar": {
                                                        "outlinewidth": 0,
                                                        "ticks": ""
                                                    }
                                                },
                                                "type": "scattercarpet"
                                            }
                                        ],
                                        "scattergeo": [
                                            {
                                                "marker": {
                                                    "colorbar": {
                                                        "outlinewidth": 0,
                                                        "ticks": ""
                                                    }
                                                },
                                                "type": "scattergeo"
                                            }
                                        ],
                                        "scattergl": [
                                            {
                                                "marker": {
                                                    "colorbar": {
                                                        "outlinewidth": 0,
                                                        "ticks": ""
                                                    }
                                                },
                                                "type": "scattergl"
                                            }
                                        ],
                                        "scattermapbox": [
                                            {
                                                "marker": {
                                                    "colorbar": {
                                                        "outlinewidth": 0,
                                                        "ticks": ""
                                                    }
                                                },
                                                "type": "scattermapbox"
                                            }
                                        ],
                                        "scatterpolar": [
                                            {
                                                "marker": {
                                                    "colorbar": {
                                                        "outlinewidth": 0,
                                                        "ticks": ""
                                                    }
                                                },
                                                "type": "scatterpolar"
                                            }
                                        ],
                                        "scatterpolargl": [
                                            {
                                                "marker": {
                                                    "colorbar": {
                                                        "outlinewidth": 0,
                                                        "ticks": ""
                                                    }
                                                },
                                                "type": "scatterpolargl"
                                            }
                                        ],
                                        "scatterternary": [
                                            {
                                                "marker": {
                                                    "colorbar": {
                                                        "outlinewidth": 0,
                                                        "ticks": ""
                                                    }
                                                },
                                                "type": "scatterternary"
                                            }
                                        ],
                                        "surface": [
                                            {
                                                "colorbar": {
                                                    "outlinewidth": 0,
                                                    "ticks": ""
                                                },
                                                "colorscale": [
                                                    [
                                                        0,
                                                        "#0d0887"
                                                    ],
                                                    [
                                                        0.1111111111111111,
                                                        "#46039f"
                                                    ],
                                                    [
                                                        0.2222222222222222,
                                                        "#7201a8"
                                                    ],
                                                    [
                                                        0.3333333333333333,
                                                        "#9c179e"
                                                    ],
                                                    [
                                                        0.4444444444444444,
                                                        "#bd3786"
                                                    ],
                                                    [
                                                        0.5555555555555556,
                                                        "#d8576b"
                                                    ],
                                                    [
                                                        0.6666666666666666,
                                                        "#ed7953"
                                                    ],
                                                    [
                                                        0.7777777777777778,
                                                        "#fb9f3a"
                                                    ],
                                                    [
                                                        0.8888888888888888,
                                                        "#fdca26"
                                                    ],
                                                    [
                                                        1,
                                                        "#f0f921"
                                                    ]
                                                ],
                                                "type": "surface"
                                            }
                                        ],
                                        "table": [
                                            {
                                                "cells": {
                                                    "fill": {
                                                        "color": "#EBF0F8"
                                                    },
                                                    "line": {
                                                        "color": "white"
                                                    }
                                                },
                                                "header": {
                                                    "fill": {
                                                        "color": "#C8D4E3"
                                                    },
                                                    "line": {
                                                        "color": "white"
                                                    }
                                                },
                                                "type": "table"
                                            }
                                        ]
                                    },
                                    "layout": {
                                        "annotationdefaults": {
                                            "arrowcolor": "#2a3f5f",
                                            "arrowhead": 0,
                                            "arrowwidth": 1
                                        },
                                        "coloraxis": {
                                            "colorbar": {
                                                "outlinewidth": 0,
                                                "ticks": ""
                                            }
                                        },
                                        "colorscale": {
                                            "diverging": [
                                                [
                                                    0,
                                                    "#8e0152"
                                                ],
                                                [
                                                    0.1,
                                                    "#c51b7d"
                                                ],
                                                [
                                                    0.2,
                                                    "#de77ae"
                                                ],
                                                [
                                                    0.3,
                                                    "#f1b6da"
                                                ],
                                                [
                                                    0.4,
                                                    "#fde0ef"
                                                ],
                                                [
                                                    0.5,
                                                    "#f7f7f7"
                                                ],
                                                [
                                                    0.6,
                                                    "#e6f5d0"
                                                ],
                                                [
                                                    0.7,
                                                    "#b8e186"
                                                ],
                                                [
                                                    0.8,
                                                    "#7fbc41"
                                                ],
                                                [
                                                    0.9,
                                                    "#4d9221"
                                                ],
                                                [
                                                    1,
                                                    "#276419"
                                                ]
                                            ],
                                            "sequential": [
                                                [
                                                    0,
                                                    "#0d0887"
                                                ],
                                                [
                                                    0.1111111111111111,
                                                    "#46039f"
                                                ],
                                                [
                                                    0.2222222222222222,
                                                    "#7201a8"
                                                ],
                                                [
                                                    0.3333333333333333,
                                                    "#9c179e"
                                                ],
                                                [
                                                    0.4444444444444444,
                                                    "#bd3786"
                                                ],
                                                [
                                                    0.5555555555555556,
                                                    "#d8576b"
                                                ],
                                                [
                                                    0.6666666666666666,
                                                    "#ed7953"
                                                ],
                                                [
                                                    0.7777777777777778,
                                                    "#fb9f3a"
                                                ],
                                                [
                                                    0.8888888888888888,
                                                    "#fdca26"
                                                ],
                                                [
                                                    1,
                                                    "#f0f921"
                                                ]
                                            ],
                                            "sequentialminus": [
                                                [
                                                    0,
                                                    "#0d0887"
                                                ],
                                                [
                                                    0.1111111111111111,
                                                    "#46039f"
                                                ],
                                                [
                                                    0.2222222222222222,
                                                    "#7201a8"
                                                ],
                                                [
                                                    0.3333333333333333,
                                                    "#9c179e"
                                                ],
                                                [
                                                    0.4444444444444444,
                                                    "#bd3786"
                                                ],
                                                [
                                                    0.5555555555555556,
                                                    "#d8576b"
                                                ],
                                                [
                                                    0.6666666666666666,
                                                    "#ed7953"
                                                ],
                                                [
                                                    0.7777777777777778,
                                                    "#fb9f3a"
                                                ],
                                                [
                                                    0.8888888888888888,
                                                    "#fdca26"
                                                ],
                                                [
                                                    1,
                                                    "#f0f921"
                                                ]
                                            ]
                                        },
                                        "colorway": [
                                            "#636efa",
                                            "#EF553B",
                                            "#00cc96",
                                            "#ab63fa",
                                            "#FFA15A",
                                            "#19d3f3",
                                            "#FF6692",
                                            "#B6E880",
                                            "#FF97FF",
                                            "#FECB52"
                                        ],
                                        "font": {
                                            "color": "#2a3f5f"
                                        },
                                        "geo": {
                                            "bgcolor": "white",
                                            "lakecolor": "white",
                                            "landcolor": "#E5ECF6",
                                            "showlakes": true,
                                            "showland": true,
                                            "subunitcolor": "white"
                                        },
                                        "hoverlabel": {
                                            "align": "left"
                                        },
                                        "hovermode": "closest",
                                        "mapbox": {
                                            "style": "light"
                                        },
                                        "paper_bgcolor": "white",
                                        "plot_bgcolor": "#E5ECF6",
                                        "polar": {
                                            "angularaxis": {
                                                "gridcolor": "white",
                                                "linecolor": "white",
                                                "ticks": ""
                                            },
                                            "bgcolor": "#E5ECF6",
                                            "radialaxis": {
                                                "gridcolor": "white",
                                                "linecolor": "white",
                                                "ticks": ""
                                            }
                                        },
                                        "scene": {
                                            "xaxis": {
                                                "backgroundcolor": "#E5ECF6",
                                                "gridcolor": "white",
                                                "gridwidth": 2,
                                                "linecolor": "white",
                                                "showbackground": true,
                                                "ticks": "",
                                                "zerolinecolor": "white"
                                            },
                                            "yaxis": {
                                                "backgroundcolor": "#E5ECF6",
                                                "gridcolor": "white",
                                                "gridwidth": 2,
                                                "linecolor": "white",
                                                "showbackground": true,
                                                "ticks": "",
                                                "zerolinecolor": "white"
                                            },
                                            "zaxis": {
                                                "backgroundcolor": "#E5ECF6",
                                                "gridcolor": "white",
                                                "gridwidth": 2,
                                                "linecolor": "white",
                                                "showbackground": true,
                                                "ticks": "",
                                                "zerolinecolor": "white"
                                            }
                                        },
                                        "shapedefaults": {
                                            "line": {
                                                "color": "#2a3f5f"
                                            }
                                        },
                                        "ternary": {
                                            "aaxis": {
                                                "gridcolor": "white",
                                                "linecolor": "white",
                                                "ticks": ""
                                            },
                                            "baxis": {
                                                "gridcolor": "white",
                                                "linecolor": "white",
                                                "ticks": ""
                                            },
                                            "bgcolor": "#E5ECF6",
                                            "caxis": {
                                                "gridcolor": "white",
                                                "linecolor": "white",
                                                "ticks": ""
                                            }
                                        },
                                        "title": {
                                            "x": 0.05
                                        },
                                        "xaxis": {
                                            "automargin": true,
                                            "gridcolor": "white",
                                            "linecolor": "white",
                                            "ticks": "",
                                            "title": {
                                                "standoff": 15
                                            },
                                            "zerolinecolor": "white",
                                            "zerolinewidth": 2
                                        },
                                        "yaxis": {
                                            "automargin": true,
                                            "gridcolor": "white",
                                            "linecolor": "white",
                                            "ticks": "",
                                            "title": {
                                                "standoff": 15
                                            },
                                            "zerolinecolor": "white",
                                            "zerolinewidth": 2
                                        }
                                    }
                                },
                                "xaxis": {
                                    "anchor": "y",
                                    "domain": [
                                        0,
                                        0.45
                                    ]
                                },
                                "xaxis2": {
                                    "anchor": "y2",
                                    "domain": [
                                        0.55,
                                        1
                                    ]
                                },
                                "xaxis3": {
                                    "anchor": "y3",
                                    "domain": [
                                        0.55,
                                        1
                                    ]
                                },
                                "yaxis": {
                                    "anchor": "x",
                                    "domain": [
                                        0.625,
                                        1
                                    ]
                                },
                                "yaxis2": {
                                    "anchor": "x2",
                                    "domain": [
                                        0.625,
                                        1
                                    ]
                                },
                                "yaxis3": {
                                    "anchor": "x3",
                                    "domain": [
                                        0,
                                        0.375
                                    ]
                                }
                            }
                        },
                        "text/html": "<div>\n        \n        \n            <div id=\"0e58c742-7f28-4385-b88d-a91d98c31e00\" class=\"plotly-graph-div\" style=\"height:525px; width:100%;\"></div>\n            <script type=\"text/javascript\">\n                require([\"plotly\"], function(Plotly) {\n                    window.PLOTLYENV=window.PLOTLYENV || {};\n                    \n                if (document.getElementById(\"0e58c742-7f28-4385-b88d-a91d98c31e00\")) {\n                    Plotly.newPlot(\n                        '0e58c742-7f28-4385-b88d-a91d98c31e00',\n                        [{\"type\": \"bar\", \"x\": [\"Aruba\", \"Afghanistan\", \"Angola\", \"Albania\", \"Andorra\", \"Arab World\", \"United Arab Emirates\", \"Argentina\", \"Armenia\"], \"xaxis\": \"x\", \"y\": [null, 11.1180000305176, 6.8860001564025906, 12.331000328064, null, 10.337095420317699, 2.34800004959106, 9.788999557495119, 16.9899997711182], \"yaxis\": \"y\"}, {\"line\": {\"shape\": \"spline\"}, \"mode\": \"lines\", \"name\": \"Value\", \"type\": \"scatter\", \"x\": [\"Aruba\", \"Afghanistan\", \"Angola\", \"Albania\", \"Andorra\", \"Arab World\", \"United Arab Emirates\", \"Argentina\", \"Armenia\"], \"xaxis\": \"x2\", \"y\": [null, 11.1180000305176, 6.8860001564025906, 12.331000328064, null, 10.337095420317699, 2.34800004959106, 9.788999557495119, 16.9899997711182], \"yaxis\": \"y2\"}, {\"domain\": {\"x\": [0.0, 0.45], \"y\": [0.0, 0.375]}, \"labels\": [\"Aruba\", \"Afghanistan\", \"Angola\", \"Albania\", \"Andorra\", \"Arab World\", \"United Arab Emirates\", \"Argentina\", \"Armenia\"], \"type\": \"pie\", \"values\": [null, 11.1180000305176, 6.8860001564025906, 12.331000328064, null, 10.337095420317699, 2.34800004959106, 9.788999557495119, 16.9899997711182]}, {\"type\": \"funnel\", \"x\": [null, 11.1180000305176, 6.8860001564025906, 12.331000328064, null, 10.337095420317699, 2.34800004959106, 9.788999557495119, 16.9899997711182], \"xaxis\": \"x3\", \"y\": [\"Aruba\", \"Afghanistan\", \"Angola\", \"Albania\", \"Andorra\", \"Arab World\", \"United Arab Emirates\", \"Argentina\", \"Armenia\"], \"yaxis\": \"y3\"}],\n                        {\"annotations\": [{\"font\": {\"size\": 16}, \"showarrow\": false, \"text\": \"Country-wise graph of 2019 Unemployment\", \"x\": 0.225, \"xanchor\": \"center\", \"xref\": \"paper\", \"y\": 1.0, \"yanchor\": \"bottom\", \"yref\": \"paper\"}, {\"font\": {\"size\": 16}, \"showarrow\": false, \"text\": \"Country-wise Scattered 2019 Unemployment\", \"x\": 0.775, \"xanchor\": \"center\", \"xref\": \"paper\", \"y\": 1.0, \"yanchor\": \"bottom\", \"yref\": \"paper\"}, {\"font\": {\"size\": 16}, \"showarrow\": false, \"text\": \"Country-wise 2019 Unemployment\", \"x\": 0.225, \"xanchor\": \"center\", \"xref\": \"paper\", \"y\": 0.375, \"yanchor\": \"bottom\", \"yref\": \"paper\"}, {\"font\": {\"size\": 16}, \"showarrow\": false, \"text\": \"Country-wise Funnel view of 2019 unemployment\", \"x\": 0.775, \"xanchor\": \"center\", \"xref\": \"paper\", \"y\": 0.375, \"yanchor\": \"bottom\", \"yref\": \"paper\"}], \"template\": {\"data\": {\"bar\": [{\"error_x\": {\"color\": \"#2a3f5f\"}, \"error_y\": {\"color\": \"#2a3f5f\"}, \"marker\": {\"line\": {\"color\": \"#E5ECF6\", \"width\": 0.5}}, \"type\": \"bar\"}], \"barpolar\": [{\"marker\": {\"line\": {\"color\": \"#E5ECF6\", \"width\": 0.5}}, \"type\": \"barpolar\"}], \"carpet\": [{\"aaxis\": {\"endlinecolor\": \"#2a3f5f\", \"gridcolor\": \"white\", \"linecolor\": \"white\", \"minorgridcolor\": \"white\", \"startlinecolor\": \"#2a3f5f\"}, \"baxis\": {\"endlinecolor\": \"#2a3f5f\", \"gridcolor\": \"white\", \"linecolor\": \"white\", \"minorgridcolor\": \"white\", \"startlinecolor\": \"#2a3f5f\"}, \"type\": \"carpet\"}], \"choropleth\": [{\"colorbar\": {\"outlinewidth\": 0, \"ticks\": \"\"}, \"type\": \"choropleth\"}], \"contour\": [{\"colorbar\": {\"outlinewidth\": 0, \"ticks\": \"\"}, \"colorscale\": [[0.0, \"#0d0887\"], [0.1111111111111111, \"#46039f\"], [0.2222222222222222, \"#7201a8\"], [0.3333333333333333, \"#9c179e\"], [0.4444444444444444, \"#bd3786\"], [0.5555555555555556, \"#d8576b\"], [0.6666666666666666, \"#ed7953\"], [0.7777777777777778, \"#fb9f3a\"], [0.8888888888888888, \"#fdca26\"], [1.0, \"#f0f921\"]], \"type\": \"contour\"}], \"contourcarpet\": [{\"colorbar\": {\"outlinewidth\": 0, \"ticks\": \"\"}, \"type\": \"contourcarpet\"}], \"heatmap\": [{\"colorbar\": {\"outlinewidth\": 0, \"ticks\": \"\"}, \"colorscale\": [[0.0, \"#0d0887\"], [0.1111111111111111, \"#46039f\"], [0.2222222222222222, \"#7201a8\"], [0.3333333333333333, \"#9c179e\"], [0.4444444444444444, \"#bd3786\"], [0.5555555555555556, \"#d8576b\"], [0.6666666666666666, \"#ed7953\"], [0.7777777777777778, \"#fb9f3a\"], [0.8888888888888888, \"#fdca26\"], [1.0, \"#f0f921\"]], \"type\": \"heatmap\"}], \"heatmapgl\": [{\"colorbar\": {\"outlinewidth\": 0, \"ticks\": \"\"}, \"colorscale\": [[0.0, \"#0d0887\"], [0.1111111111111111, \"#46039f\"], [0.2222222222222222, \"#7201a8\"], [0.3333333333333333, \"#9c179e\"], [0.4444444444444444, \"#bd3786\"], [0.5555555555555556, \"#d8576b\"], [0.6666666666666666, \"#ed7953\"], [0.7777777777777778, \"#fb9f3a\"], [0.8888888888888888, \"#fdca26\"], [1.0, \"#f0f921\"]], \"type\": \"heatmapgl\"}], \"histogram\": [{\"marker\": {\"colorbar\": {\"outlinewidth\": 0, \"ticks\": \"\"}}, \"type\": \"histogram\"}], \"histogram2d\": [{\"colorbar\": {\"outlinewidth\": 0, \"ticks\": \"\"}, \"colorscale\": [[0.0, \"#0d0887\"], [0.1111111111111111, \"#46039f\"], [0.2222222222222222, \"#7201a8\"], [0.3333333333333333, \"#9c179e\"], [0.4444444444444444, \"#bd3786\"], [0.5555555555555556, \"#d8576b\"], [0.6666666666666666, \"#ed7953\"], [0.7777777777777778, \"#fb9f3a\"], [0.8888888888888888, \"#fdca26\"], [1.0, \"#f0f921\"]], \"type\": \"histogram2d\"}], \"histogram2dcontour\": [{\"colorbar\": {\"outlinewidth\": 0, \"ticks\": \"\"}, \"colorscale\": [[0.0, \"#0d0887\"], [0.1111111111111111, \"#46039f\"], [0.2222222222222222, \"#7201a8\"], [0.3333333333333333, \"#9c179e\"], [0.4444444444444444, \"#bd3786\"], [0.5555555555555556, \"#d8576b\"], [0.6666666666666666, \"#ed7953\"], [0.7777777777777778, \"#fb9f3a\"], [0.8888888888888888, \"#fdca26\"], [1.0, \"#f0f921\"]], \"type\": \"histogram2dcontour\"}], \"mesh3d\": [{\"colorbar\": {\"outlinewidth\": 0, \"ticks\": \"\"}, \"type\": \"mesh3d\"}], \"parcoords\": [{\"line\": {\"colorbar\": {\"outlinewidth\": 0, \"ticks\": \"\"}}, \"type\": \"parcoords\"}], \"pie\": [{\"automargin\": true, \"type\": \"pie\"}], \"scatter\": [{\"marker\": {\"colorbar\": {\"outlinewidth\": 0, \"ticks\": \"\"}}, \"type\": \"scatter\"}], \"scatter3d\": [{\"line\": {\"colorbar\": {\"outlinewidth\": 0, \"ticks\": \"\"}}, \"marker\": {\"colorbar\": {\"outlinewidth\": 0, \"ticks\": \"\"}}, \"type\": \"scatter3d\"}], \"scattercarpet\": [{\"marker\": {\"colorbar\": {\"outlinewidth\": 0, \"ticks\": \"\"}}, \"type\": \"scattercarpet\"}], \"scattergeo\": [{\"marker\": {\"colorbar\": {\"outlinewidth\": 0, \"ticks\": \"\"}}, \"type\": \"scattergeo\"}], \"scattergl\": [{\"marker\": {\"colorbar\": {\"outlinewidth\": 0, \"ticks\": \"\"}}, \"type\": \"scattergl\"}], \"scattermapbox\": [{\"marker\": {\"colorbar\": {\"outlinewidth\": 0, \"ticks\": \"\"}}, \"type\": \"scattermapbox\"}], \"scatterpolar\": [{\"marker\": {\"colorbar\": {\"outlinewidth\": 0, \"ticks\": \"\"}}, \"type\": \"scatterpolar\"}], \"scatterpolargl\": [{\"marker\": {\"colorbar\": {\"outlinewidth\": 0, \"ticks\": \"\"}}, \"type\": \"scatterpolargl\"}], \"scatterternary\": [{\"marker\": {\"colorbar\": {\"outlinewidth\": 0, \"ticks\": \"\"}}, \"type\": \"scatterternary\"}], \"surface\": [{\"colorbar\": {\"outlinewidth\": 0, \"ticks\": \"\"}, \"colorscale\": [[0.0, \"#0d0887\"], [0.1111111111111111, \"#46039f\"], [0.2222222222222222, \"#7201a8\"], [0.3333333333333333, \"#9c179e\"], [0.4444444444444444, \"#bd3786\"], [0.5555555555555556, \"#d8576b\"], [0.6666666666666666, \"#ed7953\"], [0.7777777777777778, \"#fb9f3a\"], [0.8888888888888888, \"#fdca26\"], [1.0, \"#f0f921\"]], \"type\": \"surface\"}], \"table\": [{\"cells\": {\"fill\": {\"color\": \"#EBF0F8\"}, \"line\": {\"color\": \"white\"}}, \"header\": {\"fill\": {\"color\": \"#C8D4E3\"}, \"line\": {\"color\": \"white\"}}, \"type\": \"table\"}]}, \"layout\": {\"annotationdefaults\": {\"arrowcolor\": \"#2a3f5f\", \"arrowhead\": 0, \"arrowwidth\": 1}, \"coloraxis\": {\"colorbar\": {\"outlinewidth\": 0, \"ticks\": \"\"}}, \"colorscale\": {\"diverging\": [[0, \"#8e0152\"], [0.1, \"#c51b7d\"], [0.2, \"#de77ae\"], [0.3, \"#f1b6da\"], [0.4, \"#fde0ef\"], [0.5, \"#f7f7f7\"], [0.6, \"#e6f5d0\"], [0.7, \"#b8e186\"], [0.8, \"#7fbc41\"], [0.9, \"#4d9221\"], [1, \"#276419\"]], \"sequential\": [[0.0, \"#0d0887\"], [0.1111111111111111, \"#46039f\"], [0.2222222222222222, \"#7201a8\"], [0.3333333333333333, \"#9c179e\"], [0.4444444444444444, \"#bd3786\"], [0.5555555555555556, \"#d8576b\"], [0.6666666666666666, \"#ed7953\"], [0.7777777777777778, \"#fb9f3a\"], [0.8888888888888888, \"#fdca26\"], [1.0, \"#f0f921\"]], \"sequentialminus\": [[0.0, \"#0d0887\"], [0.1111111111111111, \"#46039f\"], [0.2222222222222222, \"#7201a8\"], [0.3333333333333333, \"#9c179e\"], [0.4444444444444444, \"#bd3786\"], [0.5555555555555556, \"#d8576b\"], [0.6666666666666666, \"#ed7953\"], [0.7777777777777778, \"#fb9f3a\"], [0.8888888888888888, \"#fdca26\"], [1.0, \"#f0f921\"]]}, \"colorway\": [\"#636efa\", \"#EF553B\", \"#00cc96\", \"#ab63fa\", \"#FFA15A\", \"#19d3f3\", \"#FF6692\", \"#B6E880\", \"#FF97FF\", \"#FECB52\"], \"font\": {\"color\": \"#2a3f5f\"}, \"geo\": {\"bgcolor\": \"white\", \"lakecolor\": \"white\", \"landcolor\": \"#E5ECF6\", \"showlakes\": true, \"showland\": true, \"subunitcolor\": \"white\"}, \"hoverlabel\": {\"align\": \"left\"}, \"hovermode\": \"closest\", \"mapbox\": {\"style\": \"light\"}, \"paper_bgcolor\": \"white\", \"plot_bgcolor\": \"#E5ECF6\", \"polar\": {\"angularaxis\": {\"gridcolor\": \"white\", \"linecolor\": \"white\", \"ticks\": \"\"}, \"bgcolor\": \"#E5ECF6\", \"radialaxis\": {\"gridcolor\": \"white\", \"linecolor\": \"white\", \"ticks\": \"\"}}, \"scene\": {\"xaxis\": {\"backgroundcolor\": \"#E5ECF6\", \"gridcolor\": \"white\", \"gridwidth\": 2, \"linecolor\": \"white\", \"showbackground\": true, \"ticks\": \"\", \"zerolinecolor\": \"white\"}, \"yaxis\": {\"backgroundcolor\": \"#E5ECF6\", \"gridcolor\": \"white\", \"gridwidth\": 2, \"linecolor\": \"white\", \"showbackground\": true, \"ticks\": \"\", \"zerolinecolor\": \"white\"}, \"zaxis\": {\"backgroundcolor\": \"#E5ECF6\", \"gridcolor\": \"white\", \"gridwidth\": 2, \"linecolor\": \"white\", \"showbackground\": true, \"ticks\": \"\", \"zerolinecolor\": \"white\"}}, \"shapedefaults\": {\"line\": {\"color\": \"#2a3f5f\"}}, \"ternary\": {\"aaxis\": {\"gridcolor\": \"white\", \"linecolor\": \"white\", \"ticks\": \"\"}, \"baxis\": {\"gridcolor\": \"white\", \"linecolor\": \"white\", \"ticks\": \"\"}, \"bgcolor\": \"#E5ECF6\", \"caxis\": {\"gridcolor\": \"white\", \"linecolor\": \"white\", \"ticks\": \"\"}}, \"title\": {\"x\": 0.05}, \"xaxis\": {\"automargin\": true, \"gridcolor\": \"white\", \"linecolor\": \"white\", \"ticks\": \"\", \"title\": {\"standoff\": 15}, \"zerolinecolor\": \"white\", \"zerolinewidth\": 2}, \"yaxis\": {\"automargin\": true, \"gridcolor\": \"white\", \"linecolor\": \"white\", \"ticks\": \"\", \"title\": {\"standoff\": 15}, \"zerolinecolor\": \"white\", \"zerolinewidth\": 2}}}, \"xaxis\": {\"anchor\": \"y\", \"domain\": [0.0, 0.45]}, \"xaxis2\": {\"anchor\": \"y2\", \"domain\": [0.55, 1.0]}, \"xaxis3\": {\"anchor\": \"y3\", \"domain\": [0.55, 1.0]}, \"yaxis\": {\"anchor\": \"x\", \"domain\": [0.625, 1.0]}, \"yaxis2\": {\"anchor\": \"x2\", \"domain\": [0.625, 1.0]}, \"yaxis3\": {\"anchor\": \"x3\", \"domain\": [0.0, 0.375]}},\n                        {\"responsive\": true}\n                    ).then(function(){\n                            \nvar gd = document.getElementById('0e58c742-7f28-4385-b88d-a91d98c31e00');\nvar x = new MutationObserver(function (mutations, observer) {{\n        var display = window.getComputedStyle(gd).display;\n        if (!display || display === 'none') {{\n            console.log([gd, 'removed!']);\n            Plotly.purge(gd);\n            observer.disconnect();\n        }}\n}});\n\n// Listen for the removal of the full notebook cells\nvar notebookContainer = gd.closest('#notebook-container');\nif (notebookContainer) {{\n    x.observe(notebookContainer, {childList: true});\n}}\n\n// Listen for the clearing of the current output cell\nvar outputEl = gd.closest('.output');\nif (outputEl) {{\n    x.observe(outputEl, {childList: true});\n}}\n\n                        })\n                };\n                });\n            </script>\n        </div>"
                    },
                    "metadata": {}
                }
            ]
        }
    ],
    "metadata": {
        "kernelspec": {
            "name": "python3",
            "display_name": "Python 3.6",
            "language": "python"
        },
        "language_info": {
            "name": "python",
            "version": "3.6.9",
            "mimetype": "text/x-python",
            "codemirror_mode": {
                "name": "ipython",
                "version": 3
            },
            "pygments_lexer": "ipython3",
            "nbconvert_exporter": "python",
            "file_extension": ".py"
        }
    },
    "nbformat": 4,
    "nbformat_minor": 1
}